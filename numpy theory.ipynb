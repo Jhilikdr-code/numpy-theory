{
 "cells": [
  {
   "cell_type": "markdown",
   "id": "7011557a-bc0b-434d-9a2d-e18f3ee81cf6",
   "metadata": {},
   "source": [
    "#THEORITICAL QUESTIONS"
   ]
  },
  {
   "cell_type": "markdown",
   "id": "b6edb425-54d5-4c21-aef5-84e8f6cec900",
   "metadata": {},
   "source": [
    "##1  Explain the purpose and advantages of NumPy in scientific computing and data analysis. How does it enhance Python's capabilities for numerical operations?"

   ]
  },
  {
   "cell_type": "code",
   "execution_count": 3,
   "id": "c1b2fc89-4a6a-4c10-8ac6-5c7245166f75",
   "metadata": {},
   "outputs": [],
   "source": [
    "#Purpose of NumPy in Scientific Computing and Data Analysis\n",
    "#NumPy (Numerical Python) is a powerful library in Python that provides support for large, multi-dimensional arrays and matrices, along with a collection of mathematical functions to operate on these arrays. It is widely used in scientific computing and data analysis due to its efficiency in handling and processing numerical data."
   ]
  },
  {
   "cell_type": "code",
   "execution_count": 5,
   "id": "0d053374-b839-4202-926a-9fd0f36f016e",
   "metadata": {},
   "outputs": [],
   "source": [
    "#Advantages of NumPy\n",
    "\n",
    "#Efficient Memory Usage-\tNumPy arrays are more compact and memory-efficient compared to Python lists because they store data in a continuous block of memory.\n",
    "#Faster Computations-\tOperations on NumPy arrays are highly optimized using C and Fortran, making numerical computations much faster than using pure Python.\n",
    "#Vectorized Operations-\tNumPy allows element-wise operations on arrays without explicit loops, reducing the code complexity and speeding up performance.\n",
    "#Support for Large Arrays-\tIt efficiently handles large datasets and operations that involve matrices or multi-dimensional arrays (e.g., n-dimensional arrays).\n",
    "#Wide Range of Functions-\tIncludes numerous built-in mathematical functions (e.g., trigonometric, statistical, linear algebra), making it easy to perform complex computations.\n",
    "#Interoperability-\tCompatible with other Python libraries like Pandas, Matplotlib, and SciPy, allowing seamless integration for data manipulation and visualization.\n",
    "#Broadcasting-\tAutomatically expands arrays of smaller dimensions to match larger ones in operations, making code shorter and easier to read.\n",
    "#Indexing and Slicing-\tOffers powerful tools for indexing and slicing arrays, making it easier to select and manipulate data at various levels of granularity."
   ]
  },
  {
   "cell_type": "code",
   "execution_count": 8,
   "id": "667fffad-ce48-4dfc-9291-e62733b1d2d5",
   "metadata": {},
   "outputs": [],
   "source": [
    "#How NumPy Enhances Python's Numerical Capabilities\n",
    "\n",
    "#Array Handling-\tPython lists are versatile but inefficient for numerical computations. NumPy provides fast, homogeneous n-dimensional arrays that significantly outperform lists in numerical tasks.\n",
    "#Mathematical Functions-\tPython’s standard library lacks specialized numerical operations. NumPy enriches Python with efficient routines for linear algebra, Fourier transforms, random number generation, and statistical operations.\n",
    "#Broadcasting-\tPython lacks efficient array-wise broadcasting. NumPy’s broadcasting mechanism allows operations between arrays of different shapes, facilitating more concise code.\n",
    "#Integration with C/Fortran-\tNumPy is built on top of C, allowing Python to leverage low-level performance optimizations, giving Python near C-like speed for numerical operations.\n"
   ]
  },
  {
   "cell_type": "markdown",
   "id": "e5281cc1-bd8c-48ba-a498-c2fac785c73b",
   "metadata": {},
   "source": [
    "##2. Compare and contrast np.mean() and np.average() functions in NumPy. When would you use one over the \n",
    "other?"
   ]
  },
  {
   "cell_type": "code",
   "execution_count": 11,
   "id": "819332e2-c0e9-4b79-a55e-1f17a56332b9",
   "metadata": {},
   "outputs": [],
   "source": [
    "#Differences\n",
    "#Weights Support:\n",
    "\n",
    "#np.mean() is used for simple averaging, where all elements contribute equally.\n",
    "#np.average() allows for a weighted average, which is useful when some elements are more important than others.\n",
    "#Flexibility:\n",
    "\n",
    "#np.mean() is simpler and ideal for general use.\n",
    "#np.average() provides greater flexibility through the weights parameter but requires the user to input weights if applicable.\n",
    "#Behavior without Weights:\n",
    "\n",
    "#Without weights, np.average() behaves exactly like np.mean(). However, np.mean() is the more straightforward option when weights aren’t needed."
   ]
  },
  {
   "cell_type": "code",
   "execution_count": null,
   "id": "94b3e7f8-e0da-4719-94bd-8e9702b6991d",
   "metadata": {},
   "outputs": [],
   "source": [
    "#When to Use Each Function\n",
    "\n",
    "#You want to calculate the simple arithmetic mean of an array without considering weights.-\tnp.mean()\n",
    "#You need to calculate an average where certain values should contribute more heavily (e.g., grades weighted by credits).-\tnp.average()\n",
    "#You have no need for weighted calculations and want a more concise, straightforward function.-\tnp.mean()\n",
    "#You are working with datasets where different elements have different levels of significance or importance.-\tnp.average()\n"
   ]
  },
  {
   "cell_type": "code",
   "execution_count": 15,
   "id": "e5a61b80-f71a-43c0-a5ba-aad90a0973c5",
   "metadata": {},
   "outputs": [],
   "source": [
    "#np.mean() Example:\n",
    "import numpy as np\n",
    "arr = np.array([1, 2, 3, 4])\n",
    "mean = np.mean(arr)  \n"
   ]
  },
  {
   "cell_type": "code",
   "execution_count": 17,
   "id": "f6ecee87-7bb7-4b0b-b1c6-799a55fe901e",
   "metadata": {},
   "outputs": [],
   "source": [
    "#np.average() Example with Weights:\n",
    "import numpy as np\n",
    "arr = np.array([1, 2, 3, 4])\n",
    "weights = np.array([1, 2, 3, 4])\n",
    "weighted_avg = np.average(arr, weights=weights) "
   ]
  },
  {
   "cell_type": "markdown",
   "id": "fe151147-ded7-46c8-b748-01bb1de46231",
   "metadata": {},
   "source": [
    "##3. Describe the methods for reversing a NumPy array along different axes. Provide examples for 1D and 2D \n",
    "arrays."
   ]
  },
  {
   "cell_type": "code",
   "execution_count": 20,
   "id": "87bd4e29-5ec7-4260-a8bc-cb46243e7705",
   "metadata": {},
   "outputs": [],
   "source": [
    "#Methods for Reversing a NumPy Array\n",
    "\n",
    "#Array Slicing ([::-1])\t-The most common way to reverse an array in NumPy is by slicing with [::-1], which works for any axis.\t\n",
    "#np.flip()-  Reverses the order of elements along a specified axis. For multidimensional arrays, you can specify the axis.\t\n",
    "#np.flipud() and np.fliplr()-\tnp.flipud() flips an array upside down (along rows), and np.fliplr() flips it left to right (along columns).\t"
   ]
  },
  {
   "cell_type": "code",
   "execution_count": 22,
   "id": "5491f8e6-e65b-42fd-b395-3c4e6060d46a",
   "metadata": {},
   "outputs": [
    {
     "name": "stdout",
     "output_type": "stream",
     "text": [
      "[5 4 3 2 1]\n"
     ]
    }
   ],
   "source": [
    "#For a 1D array, you can reverse it using slicing or np.flip().\n",
    "\n",
    "#1D Array Slicing:\n",
    "import numpy as np\n",
    "arr_1d = np.array([1, 2, 3, 4, 5])\n",
    "reversed_arr_1d = arr_1d[::-1]\n",
    "print(reversed_arr_1d)"
   ]
  },
  {
   "cell_type": "code",
   "execution_count": 24,
   "id": "ac810517-9888-451e-bac1-b1e1b99fb7cc",
   "metadata": {},
   "outputs": [
    {
     "name": "stdout",
     "output_type": "stream",
     "text": [
      "[5 4 3 2 1]\n"
     ]
    }
   ],
   "source": [
    "#1D Array with np.flip():\n",
    "reversed_arr_1d_flip = np.flip(arr_1d)\n",
    "print(reversed_arr_1d_flip)"
   ]
  },
  {
   "cell_type": "code",
   "execution_count": 26,
   "id": "f7520e42-2913-4537-be5d-a83f2736cf46",
   "metadata": {},
   "outputs": [],
   "source": [
    "# Reversing a 2D Array\n",
    "#For a 2D array, you can reverse along rows, columns, or both using slicing or np.flip().\n",
    "\n",
    "#2D Array Definition:\n",
    "arr_2d = np.array([[1, 2, 3],\n",
    "                   [4, 5, 6],\n",
    "                   [7, 8, 9]])\n"
   ]
  },
  {
   "cell_type": "code",
   "execution_count": 28,
   "id": "77b4b9c0-7698-422f-ba6b-1eceb395ac34",
   "metadata": {},
   "outputs": [
    {
     "name": "stdout",
     "output_type": "stream",
     "text": [
      "[[9 8 7]\n",
      " [6 5 4]\n",
      " [3 2 1]]\n"
     ]
    }
   ],
   "source": [
    "#Reverse the Entire 2D Array (Both Axes):\n",
    "\n",
    "#Using np.flip() to reverse both rows and columns:\n",
    "reversed_2d = np.flip(arr_2d)\n",
    "print(reversed_2d)\n"
   ]
  },
  {
   "cell_type": "code",
   "execution_count": 30,
   "id": "0b41d0be-f4d9-4797-a77b-5a174595ec17",
   "metadata": {},
   "outputs": [
    {
     "name": "stdout",
     "output_type": "stream",
     "text": [
      "[[7 8 9]\n",
      " [4 5 6]\n",
      " [1 2 3]]\n"
     ]
    }
   ],
   "source": [
    "#Reverse the Rows (Axis 0):\n",
    "\n",
    "#Using slicing or np.flip() with axis=0:\n",
    "reversed_rows = arr_2d[::-1, :]\n",
    "# or\n",
    "reversed_rows_flip = np.flip(arr_2d, axis=0)\n",
    "print(reversed_rows)"
   ]
  },
  {
   "cell_type": "code",
   "execution_count": 32,
   "id": "f76c45a2-906b-460b-b078-c97f222d2fc4",
   "metadata": {},
   "outputs": [
    {
     "name": "stdout",
     "output_type": "stream",
     "text": [
      "[[3 2 1]\n",
      " [6 5 4]\n",
      " [9 8 7]]\n"
     ]
    }
   ],
   "source": [
    "#Reverse the Columns (Axis 1):\n",
    "\n",
    "#Using slicing or np.flip() with axis=1:\n",
    "reversed_cols = arr_2d[:, ::-1]\n",
    "# or\n",
    "reversed_cols_flip = np.flip(arr_2d, axis=1)\n",
    "print(reversed_cols)"
   ]
  },
  {
   "cell_type": "code",
   "execution_count": 34,
   "id": "d877716f-b1ea-4c81-bf19-688922da2729",
   "metadata": {},
   "outputs": [
    {
     "name": "stdout",
     "output_type": "stream",
     "text": [
      "[[7 8 9]\n",
      " [4 5 6]\n",
      " [1 2 3]]\n"
     ]
    }
   ],
   "source": [
    "#Use np.flipud() and np.fliplr() for Flipping Rows and Columns:\n",
    "\n",
    "#Flip rows (upside down):\n",
    "flipped_up_down = np.flipud(arr_2d)\n",
    "print(flipped_up_down)"
   ]
  },
  {
   "cell_type": "code",
   "execution_count": 36,
   "id": "c60e668c-19e9-4a5c-a04a-fecb452efef5",
   "metadata": {},
   "outputs": [
    {
     "name": "stdout",
     "output_type": "stream",
     "text": [
      "[[3 2 1]\n",
      " [6 5 4]\n",
      " [9 8 7]]\n"
     ]
    }
   ],
   "source": [
    "#Flip columns (left to right):\n",
    "flipped_left_right = np.fliplr(arr_2d)\n",
    "print(flipped_left_right)"
   ]
  },
  {
   "cell_type": "markdown",
   "id": "57a215c6-54c7-405a-831d-36dd8746b74d",
   "metadata": {},
   "source": [
    "##4  How can you determine the data type of elements in a NumPy array? Discuss the importance of data types \n",
    "in memory management and performance.\r\n",
    "\r\n",
    "\r"
   ]
  },
  {
   "cell_type": "code",
   "execution_count": 39,
   "id": "6eec5252-f717-4527-b510-0112f78e0706",
   "metadata": {},
   "outputs": [],
   "source": [
    "#In NumPy, you can easily determine the data type (also called dtype) of the elements in an array using the dtype attribute. Here's how:"
   ]
  },
  {
   "cell_type": "code",
   "execution_count": 41,
   "id": "3392a6b2-d1d8-4efa-9299-5fd14207a829",
   "metadata": {},
   "outputs": [
    {
     "name": "stdout",
     "output_type": "stream",
     "text": [
      "int32\n"
     ]
    }
   ],
   "source": [
    "import numpy as np\n",
    "\n",
    "# Example array\n",
    "arr = np.array([1, 2, 3, 4])\n",
    "\n",
    "# Determine the data type of elements\n",
    "print(arr.dtype)\n"
   ]
  },
  {
   "cell_type": "code",
   "execution_count": 43,
   "id": "bfb9e32f-9ced-4952-a308-fdafba7d7a2f",
   "metadata": {},
   "outputs": [
    {
     "name": "stdout",
     "output_type": "stream",
     "text": [
      "16\n",
      "32\n"
     ]
    }
   ],
   "source": [
    "#Why Data Types Are Important in NumPy\n",
    "#Data types (or dtypes) in NumPy define how much memory is allocated for each element and how the data is interpreted. Choosing the right data type is essential for both memory management and performance in numerical computing.\n",
    "\n",
    "#Importance of Data Types in Memory Management\n",
    "#Efficient Memory Usage:\n",
    "\n",
    "#Different data types use different amounts of memory. For example, an int32 (32-bit integer) takes 4 bytes per element, while a float64 (64-bit floating point number) takes 8 bytes per element.\n",
    "#Choosing a smaller data type for your array when you don't need larger precision saves memory.\n",
    "#Example:\n",
    "arr_int32 = np.array([1, 2, 3, 4], dtype='int32')\n",
    "arr_float64 = np.array([1, 2, 3, 4], dtype='float64')\n",
    "\n",
    "print(arr_int32.nbytes)  \n",
    "print(arr_float64.nbytes) \n"
   ]
  },
  {
   "cell_type": "code",
   "execution_count": 45,
   "id": "0461c710-59f0-4ec7-8b78-744ece8ead18",
   "metadata": {},
   "outputs": [],
   "source": [
    "#Large Datasets:\n",
    "\n",
    "#In data science and machine learning, you often work with very large datasets. Using efficient data types helps reduce memory usage, which is crucial for handling big datasets in-memory.\n",
    "#For example, if you are working with categorical data that only has a few distinct values, you can use an int8 (1-byte integer) instead of int64, significantly reducing memory usage."
   ]
  },
  {
   "cell_type": "code",
   "execution_count": 47,
   "id": "1c2d0112-1e38-4027-8407-224c13b501fc",
   "metadata": {},
   "outputs": [],
   "source": [
    "#Importance of Data Types in Performance\n",
    "#Computation Speed:\n",
    "\n",
    "#NumPy operations are optimized based on the data type of the array. Arrays with smaller or simpler data types (e.g., int32 vs. float64) can be processed faster because they require fewer CPU cycles.\n",
    "#For example, when performing arithmetic operations on an array of int32, the processor can handle more elements in parallel compared to float64 elements, which are larger and may require more computational resources."
   ]
  },
  {
   "cell_type": "code",
   "execution_count": 49,
   "id": "f3691fd0-25f2-487a-905f-ada32613fb61",
   "metadata": {},
   "outputs": [
    {
     "name": "stdout",
     "output_type": "stream",
     "text": [
      "2.15 ms ± 229 μs per loop (mean ± std. dev. of 7 runs, 100 loops each)\n",
      "2.51 ms ± 96.1 μs per loop (mean ± std. dev. of 7 runs, 100 loops each)\n"
     ]
    }
   ],
   "source": [
    "arr_small = np.ones(10**6, dtype='int32')\n",
    "arr_large = np.ones(10**6, dtype='float64')\n",
    "\n",
    "%timeit arr_small + 1 \n",
    "%timeit arr_large + 1  \n"
   ]
  },
  {
   "cell_type": "code",
   "execution_count": 51,
   "id": "aa3840dd-0d8e-4488-a9c1-e5da8fbd7cb1",
   "metadata": {},
   "outputs": [],
   "source": [
    "#Precision Control:\n",
    "\n",
    "#Different data types offer different levels of precision. For example, using float32 instead of float64 saves memory but reduces precision, which can be critical in scientific computing where precision matters.\n",
    "#For tasks like image processing or neural networks, lower precision (e.g., float16 or int8) is often sufficient and preferred for efficiency.\n",
    "#Avoiding Overflow/Underflow:\n",
    "\n",
    "#Choosing the right data type helps prevent issues like overflow (when a value exceeds the maximum limit of the data type) or underflow (when a value is too small to be represented). For instance, using int8 for a large integer dataset can lead to overflow errors, as it can only represent values from -128 to 127."
   ]
  },
  {
   "cell_type": "markdown",
   "id": "d941c793-bcd9-4b5c-bb4c-00a0d2751ea7",
   "metadata": {},
   "source": [
    "##5  Define ndarrays in NumPy and explain their key features. How do they differ from standard Python lists?"
   ]
  },
  {
   "cell_type": "code",
   "execution_count": 54,
   "id": "42cacc7f-489b-435b-b347-96de8ac340cd",
   "metadata": {},
   "outputs": [],
   "source": [
    "#An ndarray (N-dimensional array) is the core data structure in NumPy, representing a multi-dimensional, homogeneous array of fixed-size items. It is optimized for fast numerical computations and memory efficiency. The term \"N-dimensional\" indicates that the array can have any number of dimensions (1D, 2D, 3D, etc.)."
   ]
  },
  {
   "cell_type": "code",
   "execution_count": 56,
   "id": "b0223443-94b2-45ce-b55a-886002642940",
   "metadata": {},
   "outputs": [],
   "source": [
    "#Key Features of ndarray\n",
    "\n",
    "#Homogeneous Data-\tAll elements in an ndarray must be of the same data type (e.g., all integers, floats, or booleans).\n",
    "#Multidimensional-\tndarray can have multiple dimensions, from 1D arrays (vectors) to 2D arrays (matrices) and higher dimensions (tensors).\n",
    "#Fixed Size-\tOnce created, the size of an ndarray is fixed, and elements cannot be added or removed dynamically like Python lists.\n",
    "#Efficient Memory Layout-\tElements are stored in contiguous blocks of memory, making operations on large datasets highly efficient compared to Python lists.\n",
    "#Vectorized Operations-\tSupports fast element-wise operations without the need for explicit loops, enabling concise and high-performance numerical code.\n",
    "#Shape and Size-\tEach ndarray has a shape attribute (number of elements along each dimension) and a size attribute (total number of elements).\n",
    "#Data Types (dtype)-\tArrays have a dtype that defines the data type of the elements (e.g., int32, float64), allowing for control over memory and precision.\n",
    "#Broadcasting-\tSupports broadcasting, allowing arrays of different shapes to be operated on together without reshaping them manually.\n",
    "#Indexing and Slicing-\tProvides powerful indexing and slicing capabilities for accessing and modifying elements, even across multiple dimensions."
   ]
  },
  {
   "cell_type": "code",
   "execution_count": 58,
   "id": "793a353d-4438-4ed5-8719-68ad35ec436c",
   "metadata": {},
   "outputs": [
    {
     "name": "stdout",
     "output_type": "stream",
     "text": [
      "(3, 3)\n",
      "9\n",
      "int32\n"
     ]
    }
   ],
   "source": [
    "import numpy as np\n",
    "\n",
    "# Create a 2D ndarray (3x3 matrix)\n",
    "arr = np.array([[1, 2, 3], [4, 5, 6], [7, 8, 9]])\n",
    "\n",
    "# Check the key properties\n",
    "print(arr.shape)  \n",
    "print(arr.size)   \n",
    "print(arr.dtype) \n"
   ]
  },
  {
   "cell_type": "code",
   "execution_count": 60,
   "id": "254afa48-925b-4c8b-8c33-519a92c25135",
   "metadata": {},
   "outputs": [],
   "source": [
    "#Differences Between ndarray and Standard Python Lists\n",
    "\n",
    "#Homogeneity-\tElements must be of the same data type (e.g., all integers or floats).\tCan store elements of different types (e.g., int, str, float).\n",
    "#Performance-\tOptimized for numerical operations, much faster due to contiguous memory layout and C-level optimizations.\tSlower, especially for large datasets, since operations are done in pure Python.\n",
    "#Memory Efficiency-\tMore memory-efficient because of fixed-size homogeneous data storage.\tUses more memory due to the flexible, variable-size nature of elements.\n",
    "#Multi-dimensional-\tSupports N-dimensional arrays, enabling handling of higher-dimensional data.\tPython lists are inherently one-dimensional, but can nest lists to create higher dimensions (less efficient).\n",
    "#Fixed Size-\tOnce created, the size of an ndarray is fixed (cannot append or remove elements dynamically).\tPython lists are dynamic; you can add, remove, or insert elements at any time.\n",
    "#Element-wise Operations-\tSupports vectorized operations, allowing for element-wise mathematical operations without loops.\tNo direct support for element-wise operations; explicit loops are needed for operations on elements.\n",
    "#Broadcasting-\tCan perform operations between arrays of different shapes using broadcasting.\tNo native support for broadcasting; lists need to be reshaped manually.\n",
    "#Indexing and Slicing-\tMore powerful and flexible indexing and slicing, supporting operations across multiple dimensions.\tLess flexible, especially for multi-dimensional data."
   ]
  },
  {
   "cell_type": "code",
   "execution_count": 62,
   "id": "e57163db-557d-4ccf-aa5f-a16d881a8183",
   "metadata": {},
   "outputs": [
    {
     "name": "stdout",
     "output_type": "stream",
     "text": [
      "[2 3 4]\n"
     ]
    }
   ],
   "source": [
    "#ndarray Element-wise Operation:\n",
    "arr = np.array([1, 2, 3])\n",
    "result = arr + 1  # Adds 1 to every element\n",
    "print(result)  "
   ]
  },
  {
   "cell_type": "code",
   "execution_count": 64,
   "id": "e42d3113-d0a0-4749-b3ed-e125c0e4c367",
   "metadata": {},
   "outputs": [
    {
     "name": "stdout",
     "output_type": "stream",
     "text": [
      "[2, 3, 4]\n"
     ]
    }
   ],
   "source": [
    "#Python List (No Direct Element-wise Operation):\n",
    "lst = [1, 2, 3]\n",
    "result = [x + 1 for x in lst]  # Requires list comprehension or a loop\n",
    "print(result)  "
   ]
  },
  {
   "cell_type": "markdown",
   "id": "1d965313-7661-41e7-b43b-1f8dffef0d16",
   "metadata": {},
   "source": [
    "##6  Analyze the performance benefits of NumPy arrays over Python lists for large-scale numerical operations"
   ]
  },
  {
   "cell_type": "code",
   "execution_count": 67,
   "id": "7cbc2177-8104-4aeb-a777-625df0b4e4a9",
   "metadata": {},
   "outputs": [],
   "source": [
    "#Performance Benefits of NumPy Arrays Over Python Lists for Large-Scale Numerical Operations\n",
    "#NumPy arrays (ndarray) offer significant performance advantages over standard Python lists, particularly for large-scale numerical operations. These benefits come from several key optimizations in NumPy's design, including memory efficiency, support for vectorized operations, and lower-level implementation in C."
   ]
  },
  {
   "cell_type": "code",
   "execution_count": 71,
   "id": "be6edd32-7ac8-4222-bf18-b1135a8f72ac",
   "metadata": {},
   "outputs": [
    {
     "name": "stdout",
     "output_type": "stream",
     "text": [
      "4000000\n",
      "8000056\n"
     ]
    }
   ],
   "source": [
    "#1. Memory Efficiency\n",
    "#Homogeneous Data Storage: NumPy arrays store data in a contiguous block of memory with a fixed data type, whereas Python lists are heterogeneous and store references to objects, which takes up more space.\n",
    "#Fixed-Size Elements: Since all elements in a NumPy array are of the same data type, NumPy allocates memory more efficiently by avoiding the overhead associated with variable-sized Python objects.\n",
    "import numpy as np\n",
    "import sys\n",
    "\n",
    "# NumPy array with 1 million integers\n",
    "arr_np = np.arange(1000000)\n",
    "print(arr_np.nbytes) \n",
    "\n",
    "# Python list with 1 million integers\n",
    "arr_py = list(range(1000000))\n",
    "print(sys.getsizeof(arr_py)) \n"
   ]
  },
  {
   "cell_type": "code",
   "execution_count": 73,
   "id": "853acd29-831c-4323-87b2-8d1e03d9c7e4",
   "metadata": {},
   "outputs": [],
   "source": [
    "#2. Faster Execution (Vectorized Operations)\n",
    "#NumPy operations are vectorized, meaning that they operate on entire arrays without the need for explicit Python loops. This makes NumPy much faster for large-scale numerical computations, as the operations are implemented in optimized C code and run at compiled speeds.\n",
    "\n",
    "#Python Lists: Operations on Python lists often require looping through the list elements in Python, which is slow due to Python’s interpreted nature.\n",
    "#NumPy Arrays: Operations on NumPy arrays are done element-wise in optimized C or Fortran code, which is far more efficient."
   ]
  },
  {
   "cell_type": "code",
   "execution_count": 75,
   "id": "a4536051-2fa8-4349-8b6b-b2293cbe5139",
   "metadata": {},
   "outputs": [
    {
     "name": "stdout",
     "output_type": "stream",
     "text": [
      "NumPy time: 0.0\n",
      "Python list time: 0.10114073753356934\n"
     ]
    }
   ],
   "source": [
    "import numpy as np\n",
    "import time\n",
    "\n",
    "# NumPy array\n",
    "arr_np = np.arange(1000000)\n",
    "\n",
    "# Python list\n",
    "arr_py = list(range(1000000))\n",
    "\n",
    "# Add 1 to each element (element-wise addition)\n",
    "\n",
    "# NumPy array operation (vectorized)\n",
    "start_np = time.time()\n",
    "arr_np += 1\n",
    "end_np = time.time()\n",
    "\n",
    "# Python list operation (using loop)\n",
    "start_py = time.time()\n",
    "arr_py = [x + 1 for x in arr_py]\n",
    "end_py = time.time()\n",
    "\n",
    "print(\"NumPy time:\", end_np - start_np) \n",
    "print(\"Python list time:\", end_py - start_py)\n"
   ]
  },
  {
   "cell_type": "markdown",
   "id": "e51d4f6a-c04c-4d6d-9500-5b263478f969",
   "metadata": {},
   "source": [
    "##7 . Compare vstack() and hstack() functions in NumPy. Provide examples demonstrating their usage and \n",
    "output"
   ]
  },
  {
   "cell_type": "code",
   "execution_count": 78,
   "id": "44e13d2f-84d3-4317-bac1-d9eeee5f602b",
   "metadata": {},
   "outputs": [],
   "source": [
    "#1. vstack() (Vertical Stacking)\n",
    "#Functionality: vstack() stacks arrays along the vertical axis (row-wise), meaning that it adds arrays on top of each other.\n",
    "#Shape Requirement: All arrays must have the same number of columns (i.e., the second dimension must match)."
   ]
  },
  {
   "cell_type": "code",
   "execution_count": 80,
   "id": "4d384c4e-29bc-4ccc-ae54-ddea73a6d902",
   "metadata": {},
   "outputs": [
    {
     "name": "stdout",
     "output_type": "stream",
     "text": [
      "[[1 2 3]\n",
      " [4 5 6]]\n"
     ]
    }
   ],
   "source": [
    "import numpy as np\n",
    "\n",
    "# Creating two 1D arrays\n",
    "arr1 = np.array([1, 2, 3])\n",
    "arr2 = np.array([4, 5, 6])\n",
    "\n",
    "# Vertical stacking of 1D arrays\n",
    "result = np.vstack((arr1, arr2))\n",
    "print(result)\n"
   ]
  },
  {
   "cell_type": "code",
   "execution_count": 82,
   "id": "bb83f51d-d728-4ac2-895b-fb74ad9ec1bc",
   "metadata": {},
   "outputs": [
    {
     "name": "stdout",
     "output_type": "stream",
     "text": [
      "[[1 2]\n",
      " [3 4]\n",
      " [5 6]\n",
      " [7 8]]\n"
     ]
    }
   ],
   "source": [
    "#2D Example:\n",
    "arr3 = np.array([[1, 2], [3, 4]])\n",
    "arr4 = np.array([[5, 6], [7, 8]])\n",
    "\n",
    "# Vertical stacking of 2D arrays\n",
    "result = np.vstack((arr3, arr4))\n",
    "print(result)\n"
   ]
  },
  {
   "cell_type": "code",
   "execution_count": 84,
   "id": "2fc8924c-48d9-46b9-8f89-74301490e3b8",
   "metadata": {},
   "outputs": [],
   "source": [
    "#2. hstack() (Horizontal Stacking)\n",
    "#Functionality: hstack() stacks arrays along the horizontal axis (column-wise), meaning that it adds arrays side-by-side.\n",
    "#Shape Requirement: All arrays must have the same number of rows (i.e., the first dimension must match)."
   ]
  },
  {
   "cell_type": "code",
   "execution_count": 86,
   "id": "1b6c3483-7a21-4278-9200-d6d6e4bd517a",
   "metadata": {},
   "outputs": [
    {
     "name": "stdout",
     "output_type": "stream",
     "text": [
      "[1 2 3 4 5 6]\n"
     ]
    }
   ],
   "source": [
    "import numpy as np\n",
    "\n",
    "# Creating two 1D arrays\n",
    "arr1 = np.array([1, 2, 3])\n",
    "arr2 = np.array([4, 5, 6])\n",
    "\n",
    "# Horizontal stacking of 1D arrays\n",
    "result = np.hstack((arr1, arr2))\n",
    "print(result)\n"
   ]
  },
  {
   "cell_type": "code",
   "execution_count": 88,
   "id": "608ce8a0-6205-4ab4-ab01-59f75cbe31f1",
   "metadata": {},
   "outputs": [
    {
     "name": "stdout",
     "output_type": "stream",
     "text": [
      "[[1 2 5 6]\n",
      " [3 4 7 8]]\n"
     ]
    }
   ],
   "source": [
    "#2D Example:\n",
    "arr3 = np.array([[1, 2], [3, 4]])\n",
    "arr4 = np.array([[5, 6], [7, 8]])\n",
    "\n",
    "# Horizontal stacking of 2D arrays\n",
    "result = np.hstack((arr3, arr4))\n",
    "print(result)\n"
   ]
  },
  {
   "cell_type": "markdown",
   "id": "a2433d01-fbca-4e4f-be1c-e015b6beb90e",
   "metadata": {},
   "source": [
    "##8  Explain the differences between fliplr() and flipud() methods in NumPy, including their effects on various \n",
    "array dimensions."
   ]
  },
  {
   "cell_type": "code",
   "execution_count": 91,
   "id": "8d608a6a-49e6-4bca-96f6-4aa7211be828",
   "metadata": {},
   "outputs": [],
   "source": [
    "#In NumPy, the functions fliplr() and flipud() are used to reverse the elements of an array along different axes. The key difference is the axis along which the reversal happens:\n",
    "\n",
    "#fliplr(): Reverses the elements horizontally (i.e., left to right) along the columns of a 2D array.\n",
    "#flipud(): Reverses the elements vertically (i.e., top to bottom) along the rows of a 2D array"
   ]
  },
  {
   "cell_type": "code",
   "execution_count": 93,
   "id": "67d0c1e7-4d60-4349-b249-01d4a7128ffa",
   "metadata": {},
   "outputs": [
    {
     "name": "stdout",
     "output_type": "stream",
     "text": [
      "[[3 2 1]\n",
      " [6 5 4]\n",
      " [9 8 7]]\n"
     ]
    }
   ],
   "source": [
    "#Example: fliplr()\n",
    "import numpy as np\n",
    "\n",
    "# Creating a 2D array\n",
    "arr = np.array([[1, 2, 3],\n",
    "                [4, 5, 6],\n",
    "                [7, 8, 9]])\n",
    "\n",
    "# Flip the array horizontally (left to right)\n",
    "result = np.fliplr(arr)\n",
    "print(result)\n"
   ]
  },
  {
   "cell_type": "code",
   "execution_count": 95,
   "id": "a954578d-49b1-4957-a96b-09d1e911c31d",
   "metadata": {},
   "outputs": [
    {
     "name": "stdout",
     "output_type": "stream",
     "text": [
      "[[7 8 9]\n",
      " [4 5 6]\n",
      " [1 2 3]]\n"
     ]
    }
   ],
   "source": [
    "#Example: flipud()\n",
    "import numpy as np\n",
    "\n",
    "# Creating a 2D array\n",
    "arr = np.array([[1, 2, 3],\n",
    "                [4, 5, 6],\n",
    "                [7, 8, 9]])\n",
    "\n",
    "# Flip the array vertically (top to bottom)\n",
    "result = np.flipud(arr)\n",
    "print(result)\n"
   ]
  },
  {
   "cell_type": "code",
   "execution_count": 97,
   "id": "10151d15-929d-4ded-a063-1f378a99b057",
   "metadata": {},
   "outputs": [
    {
     "name": "stdout",
     "output_type": "stream",
     "text": [
      "fliplr() result:\n",
      "[[[ 7  8  9]\n",
      "  [ 4  5  6]\n",
      "  [ 1  2  3]]\n",
      "\n",
      " [[16 17 18]\n",
      "  [13 14 15]\n",
      "  [10 11 12]]]\n",
      "flipud() result:\n",
      "[[[10 11 12]\n",
      "  [13 14 15]\n",
      "  [16 17 18]]\n",
      "\n",
      " [[ 1  2  3]\n",
      "  [ 4  5  6]\n",
      "  [ 7  8  9]]]\n"
     ]
    }
   ],
   "source": [
    "#Example with 3D Array:\n",
    "import numpy as np\n",
    "\n",
    "# Creating a 3D array (2 matrices of 3x3)\n",
    "arr_3d = np.array([[[1, 2, 3],\n",
    "                    [4, 5, 6],\n",
    "                    [7, 8, 9]],\n",
    "                   \n",
    "                   [[10, 11, 12],\n",
    "                    [13, 14, 15],\n",
    "                    [16, 17, 18]]])\n",
    "\n",
    "# Apply fliplr()\n",
    "result_fliplr = np.fliplr(arr_3d)\n",
    "print(\"fliplr() result:\")\n",
    "print(result_fliplr)\n",
    "\n",
    "# Apply flipud()\n",
    "result_flipud = np.flipud(arr_3d)\n",
    "print(\"flipud() result:\")\n",
    "print(result_flipud)\n"
   ]
  },
  {
   "cell_type": "markdown",
   "id": "45a7f14c-f684-459c-a2e7-c34729aa608e",
   "metadata": {},
   "source": [
    "##9 Discuss the functionality of the array_split() method in NumPy. How does it handle uneven splits?"
   ]
  },
  {
   "cell_type": "code",
   "execution_count": 101,
   "id": "95b1e752-d278-4ebe-ab4e-350075780199",
   "metadata": {},
   "outputs": [],
   "source": [
    "#The array_split() method in NumPy is used to split an array into multiple sub-arrays along a specified axis. It’s similar to the split() function but with an important difference: array_split() can handle uneven splits, whereas split() requires the array to be evenly divisible by the number of sub-arrays."
   ]
  },
  {
   "cell_type": "code",
   "execution_count": 103,
   "id": "9b314c1b-515b-4da7-a33f-f54eae128732",
   "metadata": {},
   "outputs": [],
   "source": [
    "#Handling of Uneven Splits\n",
    "#When the size of the array does not evenly divide by the number of sub-arrays, array_split() distributes the elements as evenly as possible. The first few sub-arrays will have one more element than the others.\n",
    "#For example, if the array size is 10 and you want to split it into 3 sub-arrays, the first sub-array will have 4 elements, while the remaining two will have 3 elements each."
   ]
  },
  {
   "cell_type": "code",
   "execution_count": 105,
   "id": "4c5712c2-f486-4c1b-9fd2-06e414ab989f",
   "metadata": {},
   "outputs": [
    {
     "name": "stdout",
     "output_type": "stream",
     "text": [
      "[array([0, 1, 2, 3]), array([4, 5, 6]), array([7, 8, 9])]\n"
     ]
    }
   ],
   "source": [
    "# Handling Uneven Splits\n",
    "arr = np.arange(10)\n",
    "\n",
    "# Split the array into 3 sub-arrays (uneven split)\n",
    "result = np.array_split(arr, 3)\n",
    "print(result)\n"
   ]
  },
  {
   "cell_type": "code",
   "execution_count": 107,
   "id": "b113bc53-6f61-44a9-8d43-7a7239e753b7",
   "metadata": {},
   "outputs": [
    {
     "name": "stdout",
     "output_type": "stream",
     "text": [
      "[array([[1, 2],\n",
      "       [5, 6]]), array([[3],\n",
      "       [7]]), array([[4],\n",
      "       [8]])]\n"
     ]
    }
   ],
   "source": [
    "#Uneven Split Along Axis for 2D Arrays\n",
    "arr_2d = np.array([[1, 2, 3, 4], [5, 6, 7, 8]])\n",
    "\n",
    "# Split into 3 sub-arrays along columns (axis=1)\n",
    "result = np.array_split(arr_2d, 3, axis=1)\n",
    "print(result)\n"
   ]
  },
  {
   "cell_type": "markdown",
   "id": "40115d7c-c3d8-43d0-8860-0d8dc7fb3872",
   "metadata": {},
   "source": [
    "##10  Explain the concepts of vectorization and broadcasting in NumPy. How do they contribute to efficient array \n",
    "operations?"
   ]
  },
  {
   "cell_type": "code",
   "execution_count": 110,
   "id": "670febda-97e5-4ee4-a9d6-bd63bcc5a30d",
   "metadata": {},
   "outputs": [],
   "source": [
    "#Vectorization in NumPy\n",
    "#Definition:\n",
    "#Vectorization refers to the process of applying operations directly on whole arrays (vectors, matrices) without the need for explicit loops.\n",
    "#It leverages low-level C and Fortran routines under the hood, allowing for fast execution and optimization."
   ]
  },
  {
   "cell_type": "code",
   "execution_count": 112,
   "id": "5d039627-fcf4-43f6-ba63-01c713da2f5b",
   "metadata": {},
   "outputs": [
    {
     "name": "stdout",
     "output_type": "stream",
     "text": [
      "[5, 7, 9]\n"
     ]
    }
   ],
   "source": [
    "# Adding two lists element-wise in pure Python\n",
    "list1 = [1, 2, 3]\n",
    "list2 = [4, 5, 6]\n",
    "result = [list1[i] + list2[i] for i in range(len(list1))]\n",
    "print(result)\n"
   ]
  },
  {
   "cell_type": "code",
   "execution_count": 114,
   "id": "82bb55aa-843c-40f0-b6c3-4cb8e6129d5d",
   "metadata": {},
   "outputs": [],
   "source": [
    "#Broadcasting in NumPy\n",
    "#Definition:\n",
    "#Broadcasting is a technique that allows NumPy to perform element-wise operations on arrays of different shapes. It automatically expands smaller arrays to match the shape of larger arrays so that operations can proceed without errors.\n",
    "#The smaller array is virtually \"stretched\" or \"broadcast\" across the larger array's shape, without making copies of the data."
   ]
  },
  {
   "cell_type": "code",
   "execution_count": 116,
   "id": "596b5fe7-3662-4487-acff-68f56154d01c",
   "metadata": {},
   "outputs": [
    {
     "name": "stdout",
     "output_type": "stream",
     "text": [
      "[[2 4 6]\n",
      " [5 7 9]]\n"
     ]
    }
   ],
   "source": [
    "import numpy as np\n",
    "\n",
    "# 2D array\n",
    "arr1 = np.array([[1, 2, 3],\n",
    "                 [4, 5, 6]])\n",
    "\n",
    "# 1D array\n",
    "arr2 = np.array([1, 2, 3])\n",
    "\n",
    "# Broadcasting arr2 to the shape of arr1 and adding them\n",
    "result = arr1 + arr2\n",
    "print(result)\n"
   ]
  },
  {
   "cell_type": "code",
   "execution_count": 118,
   "id": "552addbf-b4f8-421f-91f3-a684c05e5ddf",
   "metadata": {},
   "outputs": [
    {
     "name": "stdout",
     "output_type": "stream",
     "text": [
      "[6 7 8]\n"
     ]
    }
   ],
   "source": [
    "#Broadcasting with Scalar:\n",
    "#When a scalar (single value) is used in operations with an array, broadcasting is applied to stretch the scalar to the shape of the array:\n",
    "arr = np.array([1, 2, 3])\n",
    "\n",
    "# Broadcasting scalar 5 across the array\n",
    "result = arr + 5\n",
    "print(result)\n"
   ]
  },
  {
   "cell_type": "code",
   "execution_count": 120,
   "id": "86b0ce87-bbdd-4a5a-a402-5c3407fb2bbf",
   "metadata": {},
   "outputs": [
    {
     "name": "stdout",
     "output_type": "stream",
     "text": [
      "[[11 12 13]\n",
      " [24 25 26]]\n"
     ]
    }
   ],
   "source": [
    "#Broadcasting Example for Arrays with Different Shapes:\n",
    "#Consider a case where we add a 2D array to a 1D array with a shape that doesn't match exactly, but can still be broadcast:\n",
    "arr1 = np.array([[1, 2, 3],\n",
    "                 [4, 5, 6]])\n",
    "\n",
    "arr2 = np.array([10, 20])\n",
    "\n",
    "# Attempting to add arr1 and arr2\n",
    "result = arr1 + arr2.reshape(-1, 1)\n",
    "print(result)\n"
   ]
  }
 ],
 "metadata": {
  "kernelspec": {
   "display_name": "Python 3 (ipykernel)",
   "language": "python",
   "name": "python3"
  },
  "language_info": {
   "codemirror_mode": {
    "name": "ipython",
    "version": 3
   },
   "file_extension": ".py",
   "mimetype": "text/x-python",
   "name": "python",
   "nbconvert_exporter": "python",
   "pygments_lexer": "ipython3",
   "version": "3.12.4"
  }
 },
 "nbformat": 4,
 "nbformat_minor": 5
}
